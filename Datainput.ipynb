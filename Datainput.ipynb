{
 "cells": [
  {
   "cell_type": "code",
   "execution_count": null,
   "metadata": {},
   "outputs": [],
   "source": [
    "print(\"--Data Input--\")\n",
    "nis = int(input(\"NIS : \"))\n",
    "nama = input(\"Nama : \")\n",
    "jk = input(\"Jenis Kelamin : \")\n",
    "rb = input(\"Rombel : \")\n",
    "ry = input(\"Rayon : \")\n",
    "ind = int(input(\"B. Indonesia : \"))\n",
    "mtk = int(input(\"Matematika : \"))\n",
    "eng = int(input(\"B. Inggris : \"))\n",
    "print(\"-\"*25)\n",
    "\n",
    "print(\"Laporan Akhir Semester\")\n",
    "print(\"SMK WIKRAMA BOGOR\")\n",
    "\n",
    "print(\"--DATA DIRI--\")\n",
    "print(\"NIS : \", nis)\n",
    "print(\"Nama : \", nama)\n",
    "print(\"Jenis Kelamin : \", jk)\n",
    "print(\"Rombel : \", rb)\n",
    "print(\"Rayon : \", ry)\n",
    "\n",
    "print(\"--NILAI--\")\n",
    "print(\"B. Indonesia : \", ind)\n",
    "print(\"Matematika : \", mtk)\n",
    "print(\"B. Inggris : \", eng)\n",
    "rata = print(\"Rata-Rata Nilai : \",(ind+mtk+eng)/3)\n",
    "if (ind+mtk+eng)/3 >= 75:\n",
    "    print(\"Kriteria Kelulusan : Lulus\")\n",
    "else:\n",
    "    print(\"Kriteria Kelulusan : Tidak Lulus\")"
   ]
  }
 ],
 "metadata": {
  "kernelspec": {
   "display_name": "Python 3",
   "language": "python",
   "name": "python3"
  },
  "language_info": {
   "codemirror_mode": {
    "name": "ipython",
    "version": 3
   },
   "file_extension": ".py",
   "mimetype": "text/x-python",
   "name": "python",
   "nbconvert_exporter": "python",
   "pygments_lexer": "ipython3",
   "version": "3.7.3"
  }
 },
 "nbformat": 4,
 "nbformat_minor": 2
}
